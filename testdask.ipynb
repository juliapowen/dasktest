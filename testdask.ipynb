{
 "cells": [
  {
   "cell_type": "code",
   "execution_count": null,
   "metadata": {},
   "outputs": [],
   "source": [
    "import dask.bag as db\n",
    "from glob import glob\n",
    "import os.path as op\n",
    "import numpy as np\n",
    "import matplotlib.pyplot as plt\n",
    "from mpl_toolkits.mplot3d import Axes3D\n",
    "\n",
    "from nibabel.streamlines import load as load_trk\n",
    "import nibabel as nib\n",
    "\n",
    "import dipy.tracking.streamline as dts\n",
    "import dipy.tracking.utils as dtu\n",
    "from skimage.transform import resize\n",
    "import scipy.ndimage.morphology as morph\n",
    "from scipy.ndimage import gaussian_filter\n",
    "from scipy.signal import fftconvolve\n",
    "from numba import jit\n",
    "import dask.array as da\n",
    "from dask import delayed\n",
    "import time\n",
    "import dipy.data as dpd"
   ]
  },
  {
   "cell_type": "code",
   "execution_count": null,
   "metadata": {},
   "outputs": [],
   "source": [
    "dpd.fetch_bundles_2_subjects()"
   ]
  },
  {
   "cell_type": "code",
   "execution_count": null,
   "metadata": {},
   "outputs": [],
   "source": [
    "b = db.from_sequence([1, 2, 3, 4, 5, 6])\n",
    "b"
   ]
  },
  {
   "cell_type": "code",
   "execution_count": null,
   "metadata": {},
   "outputs": [],
   "source": [
    "def squarefx(x):\n",
    "    y = x*x\n",
    "    return y"
   ]
  },
  {
   "cell_type": "code",
   "execution_count": null,
   "metadata": {},
   "outputs": [],
   "source": [
    "bb = b.map(squarefx)\n",
    "bb"
   ]
  },
  {
   "cell_type": "code",
   "execution_count": null,
   "metadata": {},
   "outputs": [],
   "source": [
    "bb.compute()"
   ]
  },
  {
   "cell_type": "code",
   "execution_count": null,
   "metadata": {},
   "outputs": [],
   "source": [
    "def loadtxt(txtfile):\n",
    "    t = open(txtfile).read().splitlines()\n",
    "    t = list(map(int, t))\n",
    "    return t"
   ]
  },
  {
   "cell_type": "code",
   "execution_count": null,
   "metadata": {},
   "outputs": [],
   "source": [
    "#try dask on loading text files\n",
    "b=db.from_sequence(['t1.txt','t2.txt','t3.txt','t4.txt']).map(loadtxt)\n",
    "b"
   ]
  },
  {
   "cell_type": "code",
   "execution_count": null,
   "metadata": {},
   "outputs": [],
   "source": [
    "b.compute()"
   ]
  },
  {
   "cell_type": "code",
   "execution_count": null,
   "metadata": {},
   "outputs": [],
   "source": [
    "def squarefxlist(x):\n",
    "    return [i ** 2 for i in x]"
   ]
  },
  {
   "cell_type": "code",
   "execution_count": null,
   "metadata": {},
   "outputs": [],
   "source": [
    "bb=b.map(squarefxlist)\n",
    "bb.compute()"
   ]
  },
  {
   "cell_type": "code",
   "execution_count": null,
   "metadata": {},
   "outputs": [],
   "source": [
    "def read_sl(fname):\n",
    "    from nibabel.streamlines import load as load_trk\n",
    "    import dipy.tracking.utils as dtu\n",
    "    import numpy as np\n",
    "    \"\"\"\n",
    "    Reads streamlins from file.\n",
    "    \"\"\"\n",
    "    tgram = load_trk(fname)\n",
    "    sl = list(dtu.move_streamlines(tgram.streamlines,\n",
    "                                   np.eye(4), tgram.affine))\n",
    "    return sl"
   ]
  },
  {
   "cell_type": "code",
   "execution_count": null,
   "metadata": {},
   "outputs": [],
   "source": [
    "ls /Users/jpowen/.dipy/exp_bundles_and_maps/bundles_2_subjects/subj_1/bundles/"
   ]
  },
  {
   "cell_type": "code",
   "execution_count": null,
   "metadata": {},
   "outputs": [],
   "source": [
    "bundle_files = glob('/Users/jpowen/.dipy/exp_bundles_and_maps/bundles_2_subjects/subj_1/bundles/*.trk')"
   ]
  },
  {
   "cell_type": "code",
   "execution_count": null,
   "metadata": {},
   "outputs": [],
   "source": [
    "#do without dask\n",
    "%time streamlines = read_sl(bundle_files[0]) \n",
    "streamlines[0].shape"
   ]
  },
  {
   "cell_type": "code",
   "execution_count": null,
   "metadata": {},
   "outputs": [],
   "source": [
    "bundle_files"
   ]
  },
  {
   "cell_type": "code",
   "execution_count": null,
   "metadata": {},
   "outputs": [],
   "source": [
    "#do with dask\n",
    "%time streamlines_loaded = db.from_sequence(bundle_files).map(read_sl).compute()"
   ]
  },
  {
   "cell_type": "code",
   "execution_count": null,
   "metadata": {},
   "outputs": [],
   "source": [
    "s1=streamlines_loaded[0]\n",
    "np.random.shuffle(s1)\n",
    "s1_selected = s1[0:160]\n",
    "s1_selected\n",
    "s1[0][1,:]"
   ]
  },
  {
   "cell_type": "code",
   "execution_count": null,
   "metadata": {},
   "outputs": [],
   "source": [
    "t1_img = nib.load('/Users/jpowen/.dipy/exp_bundles_and_maps/bundles_2_subjects/subj_1/t1_warped.nii.gz')\n",
    "vol_shape=t1_img.shape\n",
    "vol_shape"
   ]
  },
  {
   "cell_type": "code",
   "execution_count": null,
   "metadata": {},
   "outputs": [],
   "source": [
    "def process_sl(streamlines_tract,take_n_sl,vol_shape,size):\n",
    "    projected_all = np.zeros([size,size,take_n_sl])\n",
    "    num_neg = 1\n",
    "    while num_neg > 0:\n",
    "        np.random.shuffle(streamlines_tract)\n",
    "        s1_selected = streamlines_tract[:take_n_sl]\n",
    "        num_neg = np.where(s1_selected<0)\n",
    "        num_neg = num_neg[0].size\n",
    "    for sl_idx, sl in enumerate(s1_selected):\n",
    "        vol = np.zeros(vol_shape, dtype=bool)\n",
    "        sl = np.round(sl).astype(int).T\n",
    "        vol[sl[0], sl[1], sl[2]] = 1\n",
    "        p0 = resize(np.max(vol, 0),(vol_shape[0], vol_shape[0]))\n",
    "        p1 = resize(np.max(vol, 1),(vol_shape[0], vol_shape[0]))\n",
    "        p2 = np.max(vol, 2) \n",
    "        projected = np.concatenate((p0,p1,p2))\n",
    "        projected = morph.binary_dilation(projected, iterations=5)\n",
    "        projected = resize(projected, (size, size)) #expects 3-d, like rgb\n",
    "        projected_all[:,:,sl_idx]=projected\n",
    "    return projected_all"
   ]
  },
  {
   "cell_type": "code",
   "execution_count": null,
   "metadata": {},
   "outputs": [],
   "source": [
    "%%time \n",
    "streamlines_processed = np.zeros([100,100,160,len(streamline_loaded)])\n",
    "for i in range(len(streamline_loaded)):\n",
    "    print(i)\n",
    "    sl_processed = process_sl(streamlines_loaded[i],160,vol_shape,100)\n",
    "    streamlines_processed[:,:,:,i] = sl_processed"
   ]
  },
  {
   "cell_type": "code",
   "execution_count": null,
   "metadata": {},
   "outputs": [],
   "source": [
    "%%time\n",
    "streamlines_processed = db.from_sequence(streamlines_loaded).map(process_sl,160,vol_shape,100).compute()"
   ]
  },
  {
   "cell_type": "code",
   "execution_count": null,
   "metadata": {},
   "outputs": [],
   "source": []
  }
 ],
 "metadata": {
  "kernelspec": {
   "display_name": "Python 2",
   "language": "python",
   "name": "python2"
  },
  "language_info": {
   "codemirror_mode": {
    "name": "ipython",
    "version": 2
   },
   "file_extension": ".py",
   "mimetype": "text/x-python",
   "name": "python",
   "nbconvert_exporter": "python",
   "pygments_lexer": "ipython2",
   "version": "2.7.15"
  }
 },
 "nbformat": 4,
 "nbformat_minor": 2
}
